{
 "cells": [
  {
   "cell_type": "markdown",
   "metadata": {},
   "source": [
    "## Build a simple trading strategy "
   ]
  },
  {
   "cell_type": "code",
   "execution_count": 4,
   "metadata": {
    "collapsed": true
   },
   "outputs": [],
   "source": [
    "import pandas as pd\n",
    "import matplotlib.pyplot as plt\n",
    "%matplotlib inline"
   ]
  },
  {
   "cell_type": "markdown",
   "metadata": {},
   "source": [
    "### 1. Munging the stock data and add two columns - MA10 and MA50"
   ]
  },
  {
   "cell_type": "code",
   "execution_count": 5,
   "metadata": {},
   "outputs": [
    {
     "data": {
      "text/html": [
       "<div>\n",
       "<table border=\"1\" class=\"dataframe\">\n",
       "  <thead>\n",
       "    <tr style=\"text-align: right;\">\n",
       "      <th></th>\n",
       "      <th>Open</th>\n",
       "      <th>High</th>\n",
       "      <th>Low</th>\n",
       "      <th>Close</th>\n",
       "      <th>Adj Close</th>\n",
       "      <th>Volume</th>\n",
       "      <th>MA10</th>\n",
       "      <th>MA50</th>\n",
       "    </tr>\n",
       "    <tr>\n",
       "      <th>Date</th>\n",
       "      <th></th>\n",
       "      <th></th>\n",
       "      <th></th>\n",
       "      <th></th>\n",
       "      <th></th>\n",
       "      <th></th>\n",
       "      <th></th>\n",
       "      <th></th>\n",
       "    </tr>\n",
       "  </thead>\n",
       "  <tbody>\n",
       "    <tr>\n",
       "      <th>2015-03-13</th>\n",
       "      <td>22.559999</td>\n",
       "      <td>22.760000</td>\n",
       "      <td>22.250000</td>\n",
       "      <td>22.700001</td>\n",
       "      <td>22.116024</td>\n",
       "      <td>8982200</td>\n",
       "      <td>22.648</td>\n",
       "      <td>21.0174</td>\n",
       "    </tr>\n",
       "    <tr>\n",
       "      <th>2015-03-16</th>\n",
       "      <td>22.879999</td>\n",
       "      <td>23.110001</td>\n",
       "      <td>22.730000</td>\n",
       "      <td>22.969999</td>\n",
       "      <td>22.379078</td>\n",
       "      <td>5923900</td>\n",
       "      <td>22.685</td>\n",
       "      <td>21.0758</td>\n",
       "    </tr>\n",
       "    <tr>\n",
       "      <th>2015-03-17</th>\n",
       "      <td>22.920000</td>\n",
       "      <td>23.260000</td>\n",
       "      <td>22.760000</td>\n",
       "      <td>23.250000</td>\n",
       "      <td>22.651876</td>\n",
       "      <td>7497500</td>\n",
       "      <td>22.792</td>\n",
       "      <td>21.1382</td>\n",
       "    </tr>\n",
       "    <tr>\n",
       "      <th>2015-03-18</th>\n",
       "      <td>23.250000</td>\n",
       "      <td>23.370001</td>\n",
       "      <td>22.660000</td>\n",
       "      <td>22.870001</td>\n",
       "      <td>22.281652</td>\n",
       "      <td>10337600</td>\n",
       "      <td>22.836</td>\n",
       "      <td>21.1998</td>\n",
       "    </tr>\n",
       "    <tr>\n",
       "      <th>2015-03-19</th>\n",
       "      <td>22.950001</td>\n",
       "      <td>23.299999</td>\n",
       "      <td>22.780001</td>\n",
       "      <td>23.219999</td>\n",
       "      <td>22.622650</td>\n",
       "      <td>7768900</td>\n",
       "      <td>22.872</td>\n",
       "      <td>21.2804</td>\n",
       "    </tr>\n",
       "  </tbody>\n",
       "</table>\n",
       "</div>"
      ],
      "text/plain": [
       "                 Open       High        Low      Close  Adj Close    Volume  \\\n",
       "Date                                                                          \n",
       "2015-03-13  22.559999  22.760000  22.250000  22.700001  22.116024   8982200   \n",
       "2015-03-16  22.879999  23.110001  22.730000  22.969999  22.379078   5923900   \n",
       "2015-03-17  22.920000  23.260000  22.760000  23.250000  22.651876   7497500   \n",
       "2015-03-18  23.250000  23.370001  22.660000  22.870001  22.281652  10337600   \n",
       "2015-03-19  22.950001  23.299999  22.780001  23.219999  22.622650   7768900   \n",
       "\n",
       "              MA10     MA50  \n",
       "Date                         \n",
       "2015-03-13  22.648  21.0174  \n",
       "2015-03-16  22.685  21.0758  \n",
       "2015-03-17  22.792  21.1382  \n",
       "2015-03-18  22.836  21.1998  \n",
       "2015-03-19  22.872  21.2804  "
      ]
     },
     "execution_count": 5,
     "metadata": {},
     "output_type": "execute_result"
    }
   ],
   "source": [
    "#import FB's stock data, add two columns - MA10 and MA50\n",
    "#use dropna to remove any \"Not a Number\" data\n",
    "fb = pd.DataFrame.from_csv('./facebook.csv')\n",
    "fb['MA10'] = fb['Close'].rolling(10).mean()\n",
    "fb['MA50'] = fb['Close'].rolling(50).mean()\n",
    "fb = fb.dropna()\n",
    "fb.head()"
   ]
  },
  {
   "cell_type": "markdown",
   "metadata": {},
   "source": [
    "### 2. Add \"Shares\" column to make decisions base on the strategy "
   ]
  },
  {
   "cell_type": "code",
   "execution_count": 6,
   "metadata": {
    "collapsed": true
   },
   "outputs": [],
   "source": [
    "#Add a new column \"Shares\", if MA10>MA50, denote as 1 (long one share of stock), otherwise, denote as 0 (do nothing)\n",
    "\n",
    "fb['Shares'] = [1 if fb.loc[ei, 'MA10']>fb.loc[ei, 'MA50'] else 0 for ei in fb.index]"
   ]
  },
  {
   "cell_type": "code",
   "execution_count": null,
   "metadata": {
    "collapsed": true
   },
   "outputs": [],
   "source": [
    "#Add a new column \"Profit\" using List Comprehension, for any rows in fb, if Shares=1, the profit is calculated as the close price of \n",
    "#tomorrow - the close price of today. Otherwise the profit is 0.\n",
    "\n",
    "#Plot a graph to show the Profit/Loss\n",
    "\n",
    "fb['Close1'] = fb['Close'].shift(-1)\n",
    "fb['Profit'] = [fb.loc[ei, 'Close1'] - fb.loc[ei, 'Close'] if fb.loc[ei, 'Shares']==1 else 0 for ei in fb.index]\n",
    "fb['Profit'].plot()\n",
    "plt.axhline(y=0, color='red')"
   ]
  },
  {
   "cell_type": "markdown",
   "metadata": {},
   "source": [
    "### 3. Use .cumsum() to display our model's performance if we follow the strategy "
   ]
  },
  {
   "cell_type": "code",
   "execution_count": 8,
   "metadata": {},
   "outputs": [
    {
     "data": {
      "text/html": [
       "<div>\n",
       "<table border=\"1\" class=\"dataframe\">\n",
       "  <thead>\n",
       "    <tr style=\"text-align: right;\">\n",
       "      <th></th>\n",
       "      <th>Open</th>\n",
       "      <th>High</th>\n",
       "      <th>Low</th>\n",
       "      <th>Close</th>\n",
       "      <th>Adj Close</th>\n",
       "      <th>Volume</th>\n",
       "      <th>MA10</th>\n",
       "      <th>MA50</th>\n",
       "      <th>Shares</th>\n",
       "      <th>Close1</th>\n",
       "      <th>Profit</th>\n",
       "      <th>wealth</th>\n",
       "    </tr>\n",
       "    <tr>\n",
       "      <th>Date</th>\n",
       "      <th></th>\n",
       "      <th></th>\n",
       "      <th></th>\n",
       "      <th></th>\n",
       "      <th></th>\n",
       "      <th></th>\n",
       "      <th></th>\n",
       "      <th></th>\n",
       "      <th></th>\n",
       "      <th></th>\n",
       "      <th></th>\n",
       "      <th></th>\n",
       "    </tr>\n",
       "  </thead>\n",
       "  <tbody>\n",
       "    <tr>\n",
       "      <th>2018-01-30</th>\n",
       "      <td>241.110001</td>\n",
       "      <td>246.419998</td>\n",
       "      <td>238.410004</td>\n",
       "      <td>242.720001</td>\n",
       "      <td>242.720001</td>\n",
       "      <td>14270800</td>\n",
       "      <td>235.692003</td>\n",
       "      <td>210.030001</td>\n",
       "      <td>1</td>\n",
       "      <td>245.800003</td>\n",
       "      <td>3.080002</td>\n",
       "      <td>177.820011</td>\n",
       "    </tr>\n",
       "    <tr>\n",
       "      <th>2018-01-31</th>\n",
       "      <td>245.770004</td>\n",
       "      <td>249.270004</td>\n",
       "      <td>244.449997</td>\n",
       "      <td>245.800003</td>\n",
       "      <td>245.800003</td>\n",
       "      <td>11964400</td>\n",
       "      <td>237.800003</td>\n",
       "      <td>210.713801</td>\n",
       "      <td>1</td>\n",
       "      <td>240.500000</td>\n",
       "      <td>-5.300003</td>\n",
       "      <td>172.520008</td>\n",
       "    </tr>\n",
       "    <tr>\n",
       "      <th>2018-02-01</th>\n",
       "      <td>238.520004</td>\n",
       "      <td>246.899994</td>\n",
       "      <td>238.059998</td>\n",
       "      <td>240.500000</td>\n",
       "      <td>240.500000</td>\n",
       "      <td>12980600</td>\n",
       "      <td>239.406003</td>\n",
       "      <td>211.296601</td>\n",
       "      <td>1</td>\n",
       "      <td>233.520004</td>\n",
       "      <td>-6.979996</td>\n",
       "      <td>165.540012</td>\n",
       "    </tr>\n",
       "    <tr>\n",
       "      <th>2018-02-02</th>\n",
       "      <td>237.000000</td>\n",
       "      <td>237.970001</td>\n",
       "      <td>231.169998</td>\n",
       "      <td>233.520004</td>\n",
       "      <td>233.520004</td>\n",
       "      <td>17961600</td>\n",
       "      <td>239.747003</td>\n",
       "      <td>211.685401</td>\n",
       "      <td>1</td>\n",
       "      <td>213.699997</td>\n",
       "      <td>-19.820007</td>\n",
       "      <td>145.720005</td>\n",
       "    </tr>\n",
       "    <tr>\n",
       "      <th>2018-02-05</th>\n",
       "      <td>227.000000</td>\n",
       "      <td>233.229996</td>\n",
       "      <td>205.000000</td>\n",
       "      <td>213.699997</td>\n",
       "      <td>213.699997</td>\n",
       "      <td>28869000</td>\n",
       "      <td>237.748003</td>\n",
       "      <td>211.638401</td>\n",
       "      <td>1</td>\n",
       "      <td>NaN</td>\n",
       "      <td>NaN</td>\n",
       "      <td>NaN</td>\n",
       "    </tr>\n",
       "  </tbody>\n",
       "</table>\n",
       "</div>"
      ],
      "text/plain": [
       "                  Open        High         Low       Close   Adj Close  \\\n",
       "Date                                                                     \n",
       "2018-01-30  241.110001  246.419998  238.410004  242.720001  242.720001   \n",
       "2018-01-31  245.770004  249.270004  244.449997  245.800003  245.800003   \n",
       "2018-02-01  238.520004  246.899994  238.059998  240.500000  240.500000   \n",
       "2018-02-02  237.000000  237.970001  231.169998  233.520004  233.520004   \n",
       "2018-02-05  227.000000  233.229996  205.000000  213.699997  213.699997   \n",
       "\n",
       "              Volume        MA10        MA50  Shares      Close1     Profit  \\\n",
       "Date                                                                          \n",
       "2018-01-30  14270800  235.692003  210.030001       1  245.800003   3.080002   \n",
       "2018-01-31  11964400  237.800003  210.713801       1  240.500000  -5.300003   \n",
       "2018-02-01  12980600  239.406003  211.296601       1  233.520004  -6.979996   \n",
       "2018-02-02  17961600  239.747003  211.685401       1  213.699997 -19.820007   \n",
       "2018-02-05  28869000  237.748003  211.638401       1         NaN        NaN   \n",
       "\n",
       "                wealth  \n",
       "Date                    \n",
       "2018-01-30  177.820011  \n",
       "2018-01-31  172.520008  \n",
       "2018-02-01  165.540012  \n",
       "2018-02-02  145.720005  \n",
       "2018-02-05         NaN  "
      ]
     },
     "execution_count": 8,
     "metadata": {},
     "output_type": "execute_result"
    }
   ],
   "source": [
    "#Use .cumsum() to calculate the accumulated wealth over the period\n",
    "\n",
    "fb['wealth'] = fb['Profit'].cumsum()\n",
    "fb.tail()"
   ]
  },
  {
   "cell_type": "code",
   "execution_count": 12,
   "metadata": {},
   "outputs": [
    {
     "data": {
      "text/plain": [
       "<matplotlib.text.Text at 0x7f0c93b9e400>"
      ]
     },
     "execution_count": 12,
     "metadata": {},
     "output_type": "execute_result"
    },
    {
     "data": {
      "image/png": "[encoded data removed]",
      "text/plain": [
       "<matplotlib.figure.Figure at 0x7f0c93d26160>"
      ]
     },
     "metadata": {},
     "output_type": "display_data"
    }
   ],
   "source": [
    "#plot the wealth to show the growth of profit over the period\n",
    "\n",
    "fb['wealth'].plot()\n",
    "plt.title('Total money you win is {}'.format(fb.loc[fb.index[-2], 'wealth']))"
   ]
  },
  {
   "cell_type": "markdown",
   "metadata": {},
   "source": [
    "## You can create your own simple trading strategy by copying the codes above and modify the codes accordingly using the data of Microsoft (microsoft.csv)."
   ]
  }
 ],
 "metadata": {
  "kernelspec": {
   "display_name": "Python 3",
   "language": "python",
   "name": "python3"
  },
  "language_info": {
   "codemirror_mode": {
    "name": "ipython",
    "version": 3
   },
   "file_extension": ".py",
   "mimetype": "text/x-python",
   "name": "python",
   "nbconvert_exporter": "python",
   "pygments_lexer": "ipython3",
   "version": "3.6.2"
  }
 },
 "nbformat": 4,
 "nbformat_minor": 2
}
